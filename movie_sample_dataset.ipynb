{
  "nbformat": 4,
  "nbformat_minor": 0,
  "metadata": {
    "colab": {
      "provenance": []
    },
    "kernelspec": {
      "name": "python3",
      "display_name": "Python 3"
    },
    "language_info": {
      "name": "python"
    }
  },
  "cells": [
    {
      "cell_type": "code",
      "execution_count": 3,
      "metadata": {
        "colab": {
          "base_uri": "https://localhost:8080/"
        },
        "collapsed": true,
        "id": "z-hcWRcBAPPq",
        "outputId": "46a4463b-ee33-4282-87c1-042c911618c3"
      },
      "outputs": [
        {
          "output_type": "stream",
          "name": "stdout",
          "text": [
            "    color      director_name  duration        gross  \\\n",
            "0   Color    Martin Scorsese       240  116866727.0   \n",
            "1   Color        Shane Black       195  408992272.0   \n",
            "2  color   Quentin Tarantino       187   54116191.0   \n",
            "3   Color   Kenneth Lonergan       186      46495.0   \n",
            "4   Color      Peter Jackson       186  258355354.0   \n",
            "5     NaN                NaN       183  330249062.0   \n",
            "6   Color      Peter Jackson       -50  303001229.0   \n",
            "7   Color        Edward Hall       180          NaN   \n",
            "8   Color        Joss Whedon       173  623279547.0   \n",
            "9   Color        Joss Whedon       173  623279547.0   \n",
            "\n",
            "                                 genres                          movie_title  \\\n",
            "0          Biography|Comedy|Crime|Drama              The Wolf of Wall Street   \n",
            "1               Action|Adventure|Sci-Fi                           Iron Man 3   \n",
            "2  Crime|Drama|Mystery|Thriller|Western                    The Hateful Eight   \n",
            "3                                 Drama                             Margaret   \n",
            "4                     Adventure|Fantasy  The Hobbit: The Desolation of Smaug   \n",
            "5               Action|Adventure|Sci-Fi   Batman v Superman: Dawn of Justice   \n",
            "6                     Adventure|Fantasy    The Hobbit: An Unexpected Journey   \n",
            "7                         Drama|Romance                             Restless   \n",
            "8               Action|Adventure|Sci-Fi                         The Avengers   \n",
            "9               Action|Adventure|Sci-Fi                         The Avengers   \n",
            "\n",
            "   title_year language country       budget  imdb_score  \\\n",
            "0        2013  English     USA  100000000.0         8.2   \n",
            "1        2013  English     USA  200000000.0         7.2   \n",
            "2        2015  English     USA   44000000.0         7.9   \n",
            "3        2011  English     usa   14000000.0         6.5   \n",
            "4        2013  English     USA  225000000.0         7.9   \n",
            "5         202  English     USA  250000000.0         6.9   \n",
            "6        2012  English     USA  180000000.0         7.9   \n",
            "7        2012  English      UK          NaN         7.2   \n",
            "8        2012  English     USA  220000000.0         8.1   \n",
            "9        2012  English     USA  220000000.0         8.1   \n",
            "\n",
            "                                              actors  movie_facebook_likes  \n",
            "0  Leonardo DiCaprio,Matthew McConaughey,Jon Favreau                138000  \n",
            "1          Robert Downey Jr.,Jon Favreau,Don Cheadle                 95000  \n",
            "2          Craig Stark,Jennifer Jason Leigh,Zoë Bell                114000  \n",
            "3        Matt Damon,Kieran Culkin,John Gallagher Jr.                     0  \n",
            "4              Aidan Turner,Adam Brown,James Nesbitt                 83000  \n",
            "5           Henry Cavill,Lauren Cohan,Alan D. Purwin                197000  \n",
            "6              Aidan Turner,Adam Brown,James Nesbitt                166000  \n",
            "7      Rufus Sewell,Hayley Atwell,Charlotte Rampling                   434  \n",
            "8  Chris Hemsworth,Robert Downey Jr.,Scarlett Joh...                123000  \n",
            "9  Chris Hemsworth,Robert Downey Jr.,Scarlett Joh...                123000  \n"
          ]
        }
      ],
      "source": [
        "import pandas as pd\n",
        "\n",
        "# Membaca file CSV\n",
        "data = pd.read_csv('movie_sample_dataset.csv')\n",
        "\n",
        "# Melihat beberapa baris pertama dari data\n",
        "# Tambahkan angka jika ingin menampilkan n baris pertama dari data.\n",
        "# Misallnya jika ingin menampilkan 4 baris pertama, maka tambahkan angka 4. Sehingga menjadi print(data.head(4))\n",
        "print(data.head(10)) #hapus tanda () jika ingin melihat semua baris\n"
      ]
    },
    {
      "cell_type": "code",
      "source": [
        "# Menampilkan informasi umum mengenai data\n",
        "print(data.info())\n"
      ],
      "metadata": {
        "colab": {
          "base_uri": "https://localhost:8080/"
        },
        "collapsed": true,
        "id": "167rwbJ-Btgj",
        "outputId": "17936cee-802a-43ea-dba2-22ada83e8bba"
      },
      "execution_count": 4,
      "outputs": [
        {
          "output_type": "stream",
          "name": "stdout",
          "text": [
            "<class 'pandas.core.frame.DataFrame'>\n",
            "RangeIndex: 99 entries, 0 to 98\n",
            "Data columns (total 13 columns):\n",
            " #   Column                Non-Null Count  Dtype  \n",
            "---  ------                --------------  -----  \n",
            " 0   color                 88 non-null     object \n",
            " 1   director_name         88 non-null     object \n",
            " 2   duration              99 non-null     int64  \n",
            " 3   gross                 91 non-null     float64\n",
            " 4   genres                98 non-null     object \n",
            " 5   movie_title           99 non-null     object \n",
            " 6   title_year            99 non-null     int64  \n",
            " 7   language              99 non-null     object \n",
            " 8   country               99 non-null     object \n",
            " 9   budget                95 non-null     float64\n",
            " 10  imdb_score            99 non-null     float64\n",
            " 11  actors                99 non-null     object \n",
            " 12  movie_facebook_likes  99 non-null     int64  \n",
            "dtypes: float64(3), int64(3), object(7)\n",
            "memory usage: 10.2+ KB\n",
            "None\n"
          ]
        }
      ]
    },
    {
      "cell_type": "code",
      "source": [
        "# Mengecek jumlah missing values di setiap kolom\n",
        "print(data.isnull().sum())\n"
      ],
      "metadata": {
        "colab": {
          "base_uri": "https://localhost:8080/"
        },
        "collapsed": true,
        "id": "K-3ck6EfGcRV",
        "outputId": "e570a6f7-51e1-4081-dd0a-997d2c1b79bb"
      },
      "execution_count": 5,
      "outputs": [
        {
          "output_type": "stream",
          "name": "stdout",
          "text": [
            "color                   11\n",
            "director_name           11\n",
            "duration                 0\n",
            "gross                    8\n",
            "genres                   1\n",
            "movie_title              0\n",
            "title_year               0\n",
            "language                 0\n",
            "country                  0\n",
            "budget                   4\n",
            "imdb_score               0\n",
            "actors                   0\n",
            "movie_facebook_likes     0\n",
            "dtype: int64\n"
          ]
        }
      ]
    },
    {
      "cell_type": "code",
      "source": [
        "# Melihat tipe data di setiap kolom\n",
        "print(data.dtypes)\n"
      ],
      "metadata": {
        "colab": {
          "base_uri": "https://localhost:8080/"
        },
        "collapsed": true,
        "id": "b4J8iTUyGhIl",
        "outputId": "d142ea9e-d229-4b1a-b418-0b95d22d3392"
      },
      "execution_count": 48,
      "outputs": [
        {
          "output_type": "stream",
          "name": "stdout",
          "text": [
            "color                    object\n",
            "director_name            object\n",
            "duration                  int64\n",
            "gross                   float64\n",
            "genres                   object\n",
            "movie_title              object\n",
            "title_year                int64\n",
            "language                 object\n",
            "country                  object\n",
            "budget                  float64\n",
            "imdb_score              float64\n",
            "actors                   object\n",
            "movie_facebook_likes      int64\n",
            "dtype: object\n"
          ]
        }
      ]
    },
    {
      "cell_type": "code",
      "source": [
        "# Menghapus baris yang memiliki nilai NaN di semua kolom\n",
        "data_cleaned = data.dropna(inplace=True)\n"
      ],
      "metadata": {
        "id": "1sy3mjatH5iF"
      },
      "execution_count": 30,
      "outputs": []
    },
    {
      "cell_type": "code",
      "source": [
        "# Mengubah nilai di kolom menjadi huruf kecil\n",
        "data['color'] = data['color'].str.lower()\n",
        "data['country'] = data['country'].str.lower()\n",
        "\n",
        "\n",
        "# Menghapus spasi di awal dan akhir nilai\n",
        "data['color'] = data['color'].str.strip()"
      ],
      "metadata": {
        "id": "R9OAw3iOLSDF"
      },
      "execution_count": 46,
      "outputs": []
    },
    {
      "cell_type": "code",
      "source": [
        "# Mengubah nilai negatif menjadi nilai absolut\n",
        "data['duration'] = data['duration'].abs()\n",
        "data['imdb_score'] = data['imdb_score'].abs()\n",
        "print(data)\n"
      ],
      "metadata": {
        "colab": {
          "base_uri": "https://localhost:8080/"
        },
        "collapsed": true,
        "id": "TzQmChWSMnVf",
        "outputId": "762f451e-1d2c-431c-8ffa-b6272119f02e"
      },
      "execution_count": 44,
      "outputs": [
        {
          "output_type": "stream",
          "name": "stdout",
          "text": [
            "    color      director_name  duration        gross  \\\n",
            "0   color    Martin Scorsese       240  116866727.0   \n",
            "1   color        Shane Black       195  408992272.0   \n",
            "2   color  Quentin Tarantino       187   54116191.0   \n",
            "3   color   Kenneth Lonergan       186      46495.0   \n",
            "4   color      Peter Jackson       186  258355354.0   \n",
            "..    ...                ...       ...          ...   \n",
            "93  color        Tony Gilroy       135  113165635.0   \n",
            "94  color      Steve McQueen       134   56667870.0   \n",
            "96  color    Paul Greengrass       134  107100855.0   \n",
            "97  color         David Ayer       134   85707116.0   \n",
            "98  color     Clint Eastwood         5   47034272.0   \n",
            "\n",
            "                                  genres                          movie_title  \\\n",
            "0           Biography|Comedy|Crime|Drama              The Wolf of Wall Street   \n",
            "1                Action|Adventure|Sci-Fi                           Iron Man 3   \n",
            "2   Crime|Drama|Mystery|Thriller|Western                    The Hateful Eight   \n",
            "3                                  Drama                             Margaret   \n",
            "4                      Adventure|Fantasy  The Hobbit: The Desolation of Smaug   \n",
            "..                                   ...                                  ...   \n",
            "93             Action|Adventure|Thriller                    The Bourne Legacy   \n",
            "94               Biography|Drama|History                     12 Years a Slave   \n",
            "96              Biography|Drama|Thriller                     Captain Phillips   \n",
            "97                      Action|Drama|War                                 Fury   \n",
            "98         Biography|Drama|Music|Musical                          Jersey Boys   \n",
            "\n",
            "    title_year language country       budget  imdb_score  \\\n",
            "0         2013  English     USA  100000000.0         8.2   \n",
            "1         2013  English     USA  200000000.0         7.2   \n",
            "2         2015  English     USA   44000000.0         7.9   \n",
            "3         2011  English     usa   14000000.0         6.5   \n",
            "4         2013  English     USA  225000000.0         7.9   \n",
            "..         ...      ...     ...          ...         ...   \n",
            "93        2012  English     USA  125000000.0         6.7   \n",
            "94        2013  English     USA   20000000.0         8.1   \n",
            "96        2013  English     USA   55000000.0         7.9   \n",
            "97        2014  English     USA   68000000.0         7.6   \n",
            "98        2014  English     USA   40000000.0         6.9   \n",
            "\n",
            "                                               actors  movie_facebook_likes  \n",
            "0   Leonardo DiCaprio,Matthew McConaughey,Jon Favreau                138000  \n",
            "1           Robert Downey Jr.,Jon Favreau,Don Cheadle                 95000  \n",
            "2           Craig Stark,Jennifer Jason Leigh,Zoë Bell                114000  \n",
            "3         Matt Damon,Kieran Culkin,John Gallagher Jr.                     0  \n",
            "4               Aidan Turner,Adam Brown,James Nesbitt                 83000  \n",
            "..                                                ...                   ...  \n",
            "93              Jeremy Renner,Scott Glenn,Stacy Keach                 31000  \n",
            "94       Quvenzhané Wallis,Scoot McNairy,Taran Killam                 83000  \n",
            "96             Tom Hanks,Chris Mulkey,Michael Chernus                 65000  \n",
            "97                 Brad Pitt,Logan Lerman,Jim Parrack                 82000  \n",
            "98      Johnny Cannizzaro,Steve Schirripa,Scott Vance                 16000  \n",
            "\n",
            "[69 rows x 13 columns]\n"
          ]
        }
      ]
    },
    {
      "cell_type": "code",
      "source": [
        "# Menyimpan data ke file CSV\n",
        "data.to_csv('movie_sample_dataset.csv', index=True)\n"
      ],
      "metadata": {
        "id": "c-ZOuVxUJeiM"
      },
      "execution_count": 47,
      "outputs": []
    }
  ]
}